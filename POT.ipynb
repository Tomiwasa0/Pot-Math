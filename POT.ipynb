{
  "nbformat": 4,
  "nbformat_minor": 0,
  "metadata": {
    "colab": {
      "provenance": [],
      "authorship_tag": "ABX9TyNJkOxy26PPhAqZaTNW7DwG",
      "include_colab_link": true
    },
    "kernelspec": {
      "name": "python3",
      "display_name": "Python 3"
    },
    "language_info": {
      "name": "python"
    }
  },
  "cells": [
    {
      "cell_type": "markdown",
      "metadata": {
        "id": "view-in-github",
        "colab_type": "text"
      },
      "source": [
        "<a href=\"https://colab.research.google.com/github/Tomiwasa0/Pot-Math/blob/main/POT.ipynb\" target=\"_parent\"><img src=\"https://colab.research.google.com/assets/colab-badge.svg\" alt=\"Open In Colab\"/></a>"
      ]
    },
    {
      "cell_type": "code",
      "execution_count": null,
      "metadata": {
        "id": "azhfrTMGXuYm"
      },
      "outputs": [],
      "source": [
        "from os.path import samestat\n",
        "\n",
        "\n",
        "print(\"pOINT SYSTEM\")\n",
        "a = int(input(\"how many high \"))\n",
        "b = int(input(\"how many medium \"))\n",
        "div = int(0)\n",
        "sam = int(0)\n",
        "divi = int(0)\n",
        "sama = int(0)\n",
        "d= int(0)\n",
        "f=int(1)\n",
        "for i in range(a, 0, -1):\n",
        "  c = int(input(\"how many high duplicates \"))\n",
        "  if c>0 :\n",
        "   d = c-1\n",
        "  mul = 0.9 ** d\n",
        "  divs = 5 * mul\n",
        "  div +=divs\n",
        "\n",
        "  if c > 0 :sam += divs/c\n",
        "  print(sam)\n",
        "  print(div)\n",
        "for i in range(b, 0, -1):\n",
        "  e = int(input(\"how many medium duplicates \"))\n",
        "  if e>0 :\n",
        "    f= e-1\n",
        "  muli = 0.9 ** f\n",
        "  divis = 1 * muli\n",
        "  divi += divis\n",
        "  if e > 0 : sama += divis/e\n",
        "\n",
        "\n",
        "last = divi + div\n",
        "money = int(input(\"pot \"))\n",
        "Yourshare = float(input(\"Myshare \"))\n",
        "if last > 0 : share = sama * money / last\n",
        "if last > 0 : share2 = 1 * money / last\n",
        "if last > 0 : shares3 = int(Yourshare * money / last)\n",
        "print(share)\n",
        "print(share2)\n",
        "print('My milla shares3 ' + str(shares3))\n",
        "print(last)\n"
      ]
    }
  ]
}