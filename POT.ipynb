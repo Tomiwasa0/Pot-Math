{
  "nbformat": 4,
  "nbformat_minor": 0,
  "metadata": {
    "colab": {
      "provenance": [],
      "authorship_tag": "ABX9TyN4TJKfMCfjBx/WTQDq1zGe",
      "include_colab_link": true
    },
    "kernelspec": {
      "name": "python3",
      "display_name": "Python 3"
    },
    "language_info": {
      "name": "python"
    }
  },
  "cells": [
    {
      "cell_type": "markdown",
      "metadata": {
        "id": "view-in-github",
        "colab_type": "text"
      },
      "source": [
        "<a href=\"https://colab.research.google.com/github/Tomiwasa0/Pot-Math/blob/main/POT.ipynb\" target=\"_parent\"><img src=\"https://colab.research.google.com/assets/colab-badge.svg\" alt=\"Open In Colab\"/></a>"
      ]
    },
    {
      "cell_type": "code",
      "execution_count": 2,
      "metadata": {
        "colab": {
          "base_uri": "https://localhost:8080/"
        },
        "id": "azhfrTMGXuYm",
        "outputId": "47b2b280-9da8-48dc-9e0f-ebed0a6ec512"
      },
      "outputs": [
        {
          "output_type": "stream",
          "name": "stdout",
          "text": [
            "pOINT SYSTEM\n",
            "how many high 0\n",
            "how many medium 9\n",
            "how many medium duplicates 5\n",
            "how many medium duplicates 4\n",
            "how many medium duplicates 7\n",
            "how many medium duplicates 7\n",
            "how many medium duplicates 3\n",
            "how many medium duplicates 4\n",
            "how many medium duplicates 4\n",
            "how many medium duplicates 6\n",
            "how many medium duplicates 9\n",
            "pot 33100\n",
            "7189.2725696395955\n",
            "438.0300902648052\n",
            "My milla shares3 1633\n",
            "5.73693921\n"
          ]
        }
      ],
      "source": [
        "from os.path import samestat\n",
        "\n",
        "\n",
        "print(\"pOINT SYSTEM\")\n",
        "a = int(input(\"how many high \"))\n",
        "b = int(input(\"how many medium \"))\n",
        "div = int(0)\n",
        "sam = int(0)\n",
        "divi = int(0)\n",
        "sama = int(0)\n",
        "d= int(0)\n",
        "f=int(1)\n",
        "for i in range(a, 0, -1):\n",
        "  c = int(input(\"how many high duplicates \"))\n",
        "  if c>0 :\n",
        "   d = c-1\n",
        "  mul = 0.9 ** d\n",
        "  divs = 5 * mul\n",
        "  div +=divs\n",
        "\n",
        "  if c > 0 :sam += divs/c\n",
        "  print(sam)\n",
        "  print(div)\n",
        "for i in range(b, 0, -1):\n",
        "  e = int(input(\"how many medium duplicates \"))\n",
        "  if e>0 :\n",
        "    f= e-1\n",
        "  muli = 0.9 ** f\n",
        "  divis = 1 * muli\n",
        "  divi += divis\n",
        "  if e > 0 : sama += divis/e\n",
        "\n",
        "\n",
        "last = divi + div\n",
        "money = int(input(\"pot \"))\n",
        "Yourshare = int(input(\"Myshare \"))\n",
        "if last > 0 : share = sama * money / last\n",
        "if last > 0 : share2 = 1 * money / last\n",
        "if last > 0 : shares3 = int(Yourshare * money / last)\n",
        "print(share)\n",
        "print(share2)\n",
        "print('My milla shares3 ' + str(shares3))\n",
        "print(last)\n"
      ]
    }
  ]
}